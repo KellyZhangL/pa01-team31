{
 "cells": [
  {
   "cell_type": "markdown",
   "metadata": {},
   "source": [
    "# Courses Demo\n",
    "This Jupyter notebook is for exploring the data set courses20-21.json\n",
    "which consists of all Brandeis courses in the 20-21 academic year (Fall20, Spr21, Sum21) \n",
    "which had at least 1 student enrolled.\n",
    "\n",
    "First we need to read the json file into a list of Python dictionaries"
   ]
  },
  {
   "cell_type": "code",
   "execution_count": 2,
   "metadata": {},
   "outputs": [],
   "source": [
    "import json"
   ]
  },
  {
   "cell_type": "code",
   "execution_count": 3,
   "metadata": {},
   "outputs": [],
   "source": [
    "with open(\"courses20-21.json\",\"r\",encoding='utf-8') as jsonfile:\n",
    "    courses = json.load(jsonfile)"
   ]
  },
  {
   "cell_type": "markdown",
   "metadata": {},
   "source": [
    "## Structure of a course\n",
    "Next we look at the fields of each course dictionary and their values"
   ]
  },
  {
   "cell_type": "code",
   "execution_count": 4,
   "metadata": {},
   "outputs": [
    {
     "name": "stdout",
     "output_type": "stream",
     "text": [
      "there are 7813 courses in the dataset\n",
      "here is the data for course 1246\n"
     ]
    },
    {
     "data": {
      "text/plain": [
       "{'limit': 28,\n",
       " 'times': [{'start': 1080, 'end': 1170, 'days': ['w', 'm']}],\n",
       " 'enrolled': 4,\n",
       " 'details': 'Instruction for this course will be offered remotely. Meeting times for this course are listed in the schedule of classes (in ET).',\n",
       " 'type': 'section',\n",
       " 'status_text': 'Open',\n",
       " 'section': '1',\n",
       " 'waiting': 0,\n",
       " 'instructor': ['An', 'Huang', 'anhuang@brandeis.edu'],\n",
       " 'coinstructors': [],\n",
       " 'code': ['MATH', '223A'],\n",
       " 'subject': 'MATH',\n",
       " 'coursenum': '223A',\n",
       " 'name': 'Lie Algebras: Representation Theory',\n",
       " 'independent_study': False,\n",
       " 'term': '1203',\n",
       " 'description': \"Theorems of Engel and Lie. Semisimple Lie algebras, Cartan's criterion. Universal enveloping algebras, PBW theorem, Serre's construction. Representation theory. Other topics as time permits. Usually offered every second year.\\nAn Huang\"}"
      ]
     },
     "execution_count": 4,
     "metadata": {},
     "output_type": "execute_result"
    }
   ],
   "source": [
    "print('there are',len(courses),'courses in the dataset')\n",
    "print('here is the data for course 1246')\n",
    "courses[1246]"
   ]
  },
  {
   "cell_type": "markdown",
   "metadata": {},
   "source": [
    "## Cleaning the data\n",
    "If we want to sort courses by instructor or by code, we need to replace the lists with tuples (which are immutable lists)"
   ]
  },
  {
   "cell_type": "code",
   "execution_count": 5,
   "metadata": {},
   "outputs": [],
   "source": [
    "for course in courses:\n",
    "        course['instructor'] = tuple(course['instructor'])\n",
    "        course['coinstructors'] = tuple([tuple(f) for f in course['coinstructors']])\n",
    "        course['code']= tuple(course['code'])"
   ]
  },
  {
   "cell_type": "code",
   "execution_count": 6,
   "metadata": {},
   "outputs": [
    {
     "name": "stdout",
     "output_type": "stream",
     "text": [
      "notice that the instructor and code are tuples now\n"
     ]
    },
    {
     "data": {
      "text/plain": [
       "{'limit': 28,\n",
       " 'times': [{'start': 1080, 'end': 1170, 'days': ['w', 'm']}],\n",
       " 'enrolled': 4,\n",
       " 'details': 'Instruction for this course will be offered remotely. Meeting times for this course are listed in the schedule of classes (in ET).',\n",
       " 'type': 'section',\n",
       " 'status_text': 'Open',\n",
       " 'section': '1',\n",
       " 'waiting': 0,\n",
       " 'instructor': ('An', 'Huang', 'anhuang@brandeis.edu'),\n",
       " 'coinstructors': (),\n",
       " 'code': ('MATH', '223A'),\n",
       " 'subject': 'MATH',\n",
       " 'coursenum': '223A',\n",
       " 'name': 'Lie Algebras: Representation Theory',\n",
       " 'independent_study': False,\n",
       " 'term': '1203',\n",
       " 'description': \"Theorems of Engel and Lie. Semisimple Lie algebras, Cartan's criterion. Universal enveloping algebras, PBW theorem, Serre's construction. Representation theory. Other topics as time permits. Usually offered every second year.\\nAn Huang\"}"
      ]
     },
     "execution_count": 6,
     "metadata": {},
     "output_type": "execute_result"
    }
   ],
   "source": [
    "print('notice that the instructor and code are tuples now')\n",
    "courses[1246]"
   ]
  },
  {
   "cell_type": "markdown",
   "metadata": {},
   "source": [
    "# Exploring the data set\n",
    "Now we will show how to use straight python to explore the data set and answer some interesting questions. Next week we will start learning Pandas/Numpy which are packages that make it easier to explore large dataset efficiently.\n",
    "\n",
    "Here are some questions we can try to asnwer:\n",
    "* what are all of the subjects of courses (e.g. COSI, MATH, JAPN, PHIL, ...)\n",
    "* which terms are represented?\n",
    "* how many instructors taught at Brandeis last year?\n",
    "* what were the five largest course sections?\n",
    "* what were the five largest courses (where we combine sections)?\n",
    "* which are the five largest subjects measured by number of courses offered?\n",
    "* which are the five largest courses measured by number of students taught?\n",
    "* which course had the most sections taught in 20-21?\n",
    "* who are the top five faculty in terms of number of students taught?\n",
    "* etc."
   ]
  },
  {
   "cell_type": "markdown",
   "metadata": {},
   "source": [
    "**(a) How many faculty taught COSI courses last year?**"
   ]
  },
  {
   "cell_type": "code",
   "execution_count": null,
   "metadata": {},
   "outputs": [],
   "source": []
  },
  {
   "cell_type": "markdown",
   "metadata": {},
   "source": [
    "**(b) What is the total number of students taking COSI courses last year?**"
   ]
  },
  {
   "cell_type": "code",
   "execution_count": null,
   "metadata": {},
   "outputs": [],
   "source": []
  },
  {
   "cell_type": "markdown",
   "metadata": {},
   "source": [
    "**(c) What was the median size of a COSI course last year (counting only those courses with at least 10 students)?**"
   ]
  },
  {
   "cell_type": "code",
   "execution_count": 7,
   "metadata": {},
   "outputs": [
    {
     "name": "stdout",
     "output_type": "stream",
     "text": [
      "Median size: 37\n"
     ]
    }
   ],
   "source": [
    "cosi_list = []\n",
    "for course in courses:\n",
    "    if course['subject'] == 'COSI' and course['enrolled'] >= 10:\n",
    "            cosi_list.append(course['enrolled'])\n",
    "\n",
    "sorted_cosi_list = sorted(cosi_list)\n",
    "median_index = int(len(cosi_list)/2)\n",
    "print('Median size:',sorted_cosi_list[median_index])"
   ]
  },
  {
   "cell_type": "markdown",
   "metadata": {},
   "source": [
    "**(d) Create a list of tuples (E,S) where S is a subject and E is the number of students enrolled in courses in that subject, sort it and print the top 10. This shows the top 10 subjects in terms of number of students taught.**"
   ]
  },
  {
   "cell_type": "code",
   "execution_count": 8,
   "metadata": {},
   "outputs": [
    {
     "name": "stdout",
     "output_type": "stream",
     "text": [
      "[(5318, 'HS'), (3085, 'BIOL'), (2766, 'BUS'), (2734, 'HWL'), (2322, 'CHEM'), (2315, 'ECON'), (2223, 'COSI'), (1785, 'MATH'), (1704, 'PSYC'), (1144, 'ANTH')]\n"
     ]
    }
   ],
   "source": [
    "enrolled_list = []\n",
    "dict_of_ES = {}\n",
    "list_of_tuples = []\n",
    "\n",
    "# add each subject and students enrolled to a dictionary \n",
    "# dictionary has unique keys, so allows us to check if a subject has already been added\n",
    "for course in courses:\n",
    "    subject = course['subject']\n",
    "    enrolled = course['enrolled']\n",
    "    if subject not in dict_of_ES:\n",
    "        dict_of_ES[subject] = 0\n",
    "    dict_of_ES[subject] += enrolled\n",
    "\n",
    "# iterate through dictionary and add each entry as a tuple to list_of_tuples\n",
    "for key in dict_of_ES.keys():\n",
    "    list_of_tuples.append((dict_of_ES[key], key))\n",
    "\n",
    "# sort list_of_tuples descending\n",
    "sorted_list_of_tuples = sorted(list_of_tuples, key = lambda x: x[0], reverse = True)\n",
    "\n",
    "# print top 10 subjects in terms of enrolled students\n",
    "print(sorted_list_of_tuples[:10])"
   ]
  },
  {
   "cell_type": "markdown",
   "metadata": {},
   "source": [
    "**(e) Do the same as in (d) but print the top 10 subjects in terms of number of courses offered.**"
   ]
  },
  {
   "cell_type": "code",
   "execution_count": 9,
   "metadata": {},
   "outputs": [
    {
     "name": "stdout",
     "output_type": "stream",
     "text": [
      "[(613, 'BIOL'), (498, 'HIST'), (417, 'PSYC'), (403, 'NEUR'), (296, 'BCHM'), (288, 'PHYS'), (274, 'HS'), (272, 'COSI'), (266, 'MUS'), (265, 'ENG')]\n"
     ]
    }
   ],
   "source": [
    "dict_of_subjects = {}\n",
    "list_of_tuples = []\n",
    "\n",
    "# iterate through courses and keep count of the number of courses in each subject\n",
    "for course in courses:\n",
    "    subject = course['subject']\n",
    "    if subject not in dict_of_subjects:\n",
    "        dict_of_subjects[subject] = 0\n",
    "    dict_of_subjects[subject] += 1\n",
    "\n",
    "# iterate through dictionary and add each entry as a tuple to list_of_tuples\n",
    "for key in dict_of_subjects.keys():\n",
    "    list_of_tuples.append((dict_of_subjects[key], key))\n",
    "\n",
    "# sort list_of_tuples descending\n",
    "sorted_list_of_tuples = sorted(list_of_tuples, key = lambda x: x[0], reverse = True)\n",
    "\n",
    "# print top 10 subjects in terms of number of courses offered\n",
    "print(sorted_list_of_tuples[:10])"
   ]
  },
  {
   "cell_type": "markdown",
   "metadata": {},
   "source": [
    "**(f) Do the same as (d) but print the top 10 subjects in terms of number of faculty teaching courses in that subject.**"
   ]
  },
  {
   "cell_type": "code",
   "execution_count": 10,
   "metadata": {},
   "outputs": [
    {
     "ename": "KeyError",
     "evalue": "'faculty'",
     "output_type": "error",
     "traceback": [
      "\u001b[0;31m---------------------------------------------------------------------------\u001b[0m",
      "\u001b[0;31mKeyError\u001b[0m                                  Traceback (most recent call last)",
      "Input \u001b[0;32mIn [10]\u001b[0m, in \u001b[0;36m<module>\u001b[0;34m\u001b[0m\n\u001b[1;32m      6\u001b[0m     subject \u001b[38;5;241m=\u001b[39m course[\u001b[38;5;124m'\u001b[39m\u001b[38;5;124msubject\u001b[39m\u001b[38;5;124m'\u001b[39m]\n\u001b[1;32m      7\u001b[0m     \u001b[38;5;28;01mif\u001b[39;00m subject \u001b[38;5;129;01mnot\u001b[39;00m \u001b[38;5;129;01min\u001b[39;00m dict_of_subjects:\n\u001b[0;32m----> 8\u001b[0m         dict_of_subjects[subject] \u001b[38;5;241m=\u001b[39m {\u001b[43mcourse\u001b[49m\u001b[43m[\u001b[49m\u001b[38;5;124;43m'\u001b[39;49m\u001b[38;5;124;43mfaculty\u001b[39;49m\u001b[38;5;124;43m'\u001b[39;49m\u001b[43m]\u001b[49m}\n\u001b[1;32m      9\u001b[0m     dict_of_subjects[subject]\n\u001b[1;32m     11\u001b[0m \u001b[38;5;66;03m# iterate through dictionary and add each entry as a tuple to list_of_tuples\u001b[39;00m\n",
      "\u001b[0;31mKeyError\u001b[0m: 'faculty'"
     ]
    }
   ],
   "source": [
    "dict_of_subjects = {}\n",
    "list_of_tuples = []\n",
    "\n",
    "# iterate through courses and keep count of the number of faculty teaching courses in each subject\n",
    "for course in courses:\n",
    "    subject = course['subject']\n",
    "    if subject not in dict_of_subjects:\n",
    "        dict_of_subjects[subject] = {course['faculty']}\n",
    "    dict_of_subjects[subject]\n",
    "\n",
    "# iterate through dictionary and add each entry as a tuple to list_of_tuples\n",
    "for key in dict_of_subjects.keys():\n",
    "    list_of_tuples.append((dict_of_subjects[key], key))\n",
    "\n",
    "# sort list_of_tuples descending\n",
    "sorted_list_of_tuples = sorted(list_of_tuples, key = lambda x: x[0], reverse = True)\n",
    "\n",
    "# print top 10 subjects in terms of number of courses offered\n",
    "print(sorted_list_of_tuples[:10])"
   ]
  },
  {
   "cell_type": "markdown",
   "metadata": {},
   "source": [
    "**(g) List the top 20 faculty in terms of number of students they taught.**"
   ]
  },
  {
   "cell_type": "code",
   "execution_count": 11,
   "metadata": {},
   "outputs": [
    {
     "name": "stdout",
     "output_type": "stream",
     "text": [
      "[(('Leah', 'Berkenwald', 'leahb@brandeis.edu'), 926), (('Kene Nathan', 'Piasta', 'kpiasta@brandeis.edu'), 583), (('Stephanie', 'Murray', 'murray@brandeis.edu'), 515), (('Milos', 'Dolnik', 'dolnik@brandeis.edu'), 489), (('Maria', 'de Boef Miara', 'mmiara@brandeis.edu'), 450), (('Bryan', 'Ingoglia', 'ingoglia@brandeis.edu'), 439), (('Rachel V.E.', 'Woodruff', 'woodruff@brandeis.edu'), 422), (('Timothy J', 'Hickey', 'tjhickey@brandeis.edu'), 411), (('Daniel', 'Breen', 'dbreen91@brandeis.edu'), 375), (('Melissa', 'Kosinski-Collins', 'kosinski@brandeis.edu'), 365), (('Claudia', 'Novack', 'novack@brandeis.edu'), 355), (('Antonella', 'DiLillo', 'dilant@brandeis.edu'), 342), (('Jon', 'Chilingerian', 'chilinge@brandeis.edu'), 330), (('Ahmad', 'Namini', 'anamini@brandeis.edu'), 327), (('Iraklis', 'Tsekourakis', 'tsekourakis@brandeis.edu'), 316), (('Geoffrey', 'Clarke', 'geoffclarke@brandeis.edu'), 315), (('Peter', 'Mistark', 'pmistark@brandeis.edu'), 277), (('Brenda', 'Anderson', 'banders@brandeis.edu'), 275), (('Colleen', 'Hitchcock', 'hitchcock@brandeis.edu'), 261), (('Scott A.', 'Redenius', 'redenius@brandeis.edu'), 259)]\n"
     ]
    }
   ],
   "source": [
    "from collections import Counter\n",
    "count = Counter()\n",
    "for course in courses:\n",
    "    count[course['instructor']] += course['enrolled']\n",
    "    \n",
    "list_of_tuples = []\n",
    "for key, value in count.items():\n",
    "    list_of_tuples.append((key,value))\n",
    "sorted_list_of_tuples = sorted(list_of_tuples,key = lambda x: x[1],reverse=True)\n",
    "\n",
    "# print top 10 subjects in terms of enrolled students\n",
    "print(sorted_list_of_tuples[:20])"
   ]
  },
  {
   "cell_type": "markdown",
   "metadata": {},
   "source": [
    "**(h) List the top 20 courses in terms of number of students taking that course (where you combine different sections and semesters, i.e. just use the subject and course number).**"
   ]
  },
  {
   "cell_type": "code",
   "execution_count": 12,
   "metadata": {},
   "outputs": [
    {
     "name": "stdout",
     "output_type": "stream",
     "text": [
      "[(('HWL', '1'), 940), (('HWL', '1-PRE'), 879), (('BIOL', '14A'), 358), (('COSI', '10A'), 343), (('PSYC', '10A'), 336), (('BIOL', '15B'), 287), (('MATH', '10A'), 280), (('BIOL', '18B'), 274), (('BIOL', '18A'), 262), (('CHEM', '29A'), 245), (('CHEM', '29B'), 239), (('CHEM', '25A'), 236), (('PSYC', '51A'), 231), (('CHEM', '25B'), 226), (('COSI', '12B'), 225), (('BUS', '6A'), 215), (('CHEM', '18A'), 208), (('ECON', '10A'), 207), (('MATH', '15A'), 204), (('ANTH', '1A'), 201)]\n"
     ]
    }
   ],
   "source": [
    "count = Counter()\n",
    "for course in courses:\n",
    "    count[course['code']] += course['enrolled']\n",
    "    \n",
    "list_of_tuples = []\n",
    "for key, value in count.items():\n",
    "    list_of_tuples.append((key,value))\n",
    "sorted_list_of_tuples = sorted(list_of_tuples,key = lambda x: x[1],reverse=True)\n",
    "\n",
    "# print top 10 subjects in terms of enrolled students\n",
    "print(sorted_list_of_tuples[:20])"
   ]
  },
  {
   "cell_type": "markdown",
   "metadata": {},
   "source": [
    "**(i) Create your own interesting question (each team member creates their own) and use Python to answer that question.**"
   ]
  },
  {
   "cell_type": "markdown",
   "metadata": {},
   "source": [
    "Kelly's Question: What are the top 10 courses taught in the COSI department in terms of number of students enrolled in the course?"
   ]
  },
  {
   "cell_type": "code",
   "execution_count": 13,
   "metadata": {},
   "outputs": [
    {
     "name": "stdout",
     "output_type": "stream",
     "text": [
      "[('Introduction to 3-D Animation', 166), ('Introduction to Problem Solving in Python', 150), ('Data Structures and the Fundamentals of Computing', 102), ('Discrete Structures', 101), ('Data Structures and the Fundamentals of Computing', 99), ('Advanced Programming Techniques in Java', 96), ('Operating Systems', 94), ('Introduction to Problem Solving in Python', 92), ('Introduction to the Theory of Computation', 87), ('Fundamentals of Natural Language Processing I', 84)]\n"
     ]
    }
   ],
   "source": [
    "# get a list of cosi courses and number of enrolled students\n",
    "list_of_tuples = []\n",
    "for course in courses:\n",
    "    if course['subject'] == 'COSI':\n",
    "        name = course['name']\n",
    "        enrolled = course ['enrolled']\n",
    "        list_of_tuples.append((name, enrolled))\n",
    "\n",
    "# print top ten based on number of enrolled students\n",
    "sorted_list_of_tuples = sorted(list_of_tuples, key = lambda x: x[1], reverse = True)\n",
    "print(sorted_list_of_tuples[:10], sep = \"\\n\")"
   ]
  },
  {
   "cell_type": "markdown",
   "metadata": {},
   "source": [
    "Zheyu's Question: What COSI courses have an enrollment greater than 100?"
   ]
  },
  {
   "cell_type": "code",
   "execution_count": 14,
   "metadata": {},
   "outputs": [
    {
     "name": "stdout",
     "output_type": "stream",
     "text": [
      "['Introduction to Problem Solving in Python', 'Data Structures and the Fundamentals of Computing', 'Discrete Structures', 'Introduction to 3-D Animation']\n"
     ]
    }
   ],
   "source": [
    "#list all COSI courses with an enrollment greater than 100\n",
    "list_of_courses = []\n",
    "for course in courses:\n",
    "    if course['subject'] == 'COSI':\n",
    "        if course['enrolled'] >= 100:\n",
    "            name = course['name']\n",
    "            list_of_courses.append(name)\n",
    "print(list_of_courses ,sep = '\\n')"
   ]
  },
  {
   "cell_type": "markdown",
   "metadata": {},
   "source": [
    "Group Member Name's Question"
   ]
  },
  {
   "cell_type": "code",
   "execution_count": null,
   "metadata": {},
   "outputs": [],
   "source": []
  },
  {
   "cell_type": "markdown",
   "metadata": {},
   "source": [
    "Group Member Name's Question"
   ]
  },
  {
   "cell_type": "code",
   "execution_count": null,
   "metadata": {},
   "outputs": [],
   "source": []
  },
  {
   "cell_type": "markdown",
   "metadata": {},
   "source": [
    "Group Member Name's Question"
   ]
  },
  {
   "cell_type": "code",
   "execution_count": null,
   "metadata": {},
   "outputs": [],
   "source": []
  }
 ],
 "metadata": {
  "kernelspec": {
   "display_name": "Python 3",
   "language": "python",
   "name": "python3"
  },
  "language_info": {
   "codemirror_mode": {
    "name": "ipython",
    "version": 3
   },
   "file_extension": ".py",
   "mimetype": "text/x-python",
   "name": "python",
   "nbconvert_exporter": "python",
   "pygments_lexer": "ipython3",
   "version": "3.9.5"
  }
 },
 "nbformat": 4,
 "nbformat_minor": 4
}
